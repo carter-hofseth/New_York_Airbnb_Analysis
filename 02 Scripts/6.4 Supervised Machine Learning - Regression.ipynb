{
 "cells": [
  {
   "cell_type": "markdown",
   "id": "500a47b9",
   "metadata": {},
   "source": [
    "# In this notebook you will find....."
   ]
  },
  {
   "cell_type": "markdown",
   "id": "b5ace509",
   "metadata": {},
   "source": [
    "## Importing libraries and data"
   ]
  },
  {
   "cell_type": "markdown",
   "id": "a9b73c22",
   "metadata": {},
   "source": [
    "## Cleaning and preppring data for analysis"
   ]
  },
  {
   "cell_type": "markdown",
   "id": "5b10eba8",
   "metadata": {},
   "source": [
    "## Exploring relationship of price and ..."
   ]
  },
  {
   "cell_type": "markdown",
   "id": "93137bf2",
   "metadata": {},
   "source": [
    "## Run regression algorithm on the selected variables"
   ]
  },
  {
   "cell_type": "markdown",
   "id": "08ad7ce8",
   "metadata": {},
   "source": [
    " "
   ]
  },
  {
   "cell_type": "markdown",
   "id": "54e35662",
   "metadata": {},
   "source": [
    "### Import libraries and data"
   ]
  },
  {
   "cell_type": "code",
   "execution_count": 1,
   "id": "44f443cd",
   "metadata": {},
   "outputs": [],
   "source": [
    "# Import libraries\n",
    "import numpy as np\n",
    "import pandas as pd\n",
    "import seaborn as sns\n",
    "import matplotlib\n",
    "import matplotlib.pyplot as plt\n",
    "import os\n",
    "import sklearn\n",
    "from sklearn.model_selection import train_test_split\n",
    "from sklearn.linear_model import LinearRegression\n",
    "from sklearn.metrics import mean_squared_error, r2_score"
   ]
  },
  {
   "cell_type": "code",
   "execution_count": 2,
   "id": "f1e492db",
   "metadata": {},
   "outputs": [],
   "source": [
    "path = r\"C:\\Users\\Carter\\Documents\\Data Immersion\\Advanced Analytics and Dashboard Design\\NY Airbnb Self-Project\""
   ]
  },
  {
   "cell_type": "code",
   "execution_count": 3,
   "id": "74118d7a",
   "metadata": {},
   "outputs": [],
   "source": [
    "# Import data\n",
    "airbnb_ny = pd.read_csv(os.path.join(path, '02 Data','Prepared Data','airbnb_ny_cleaned.csv'))"
   ]
  },
  {
   "cell_type": "code",
   "execution_count": 5,
   "id": "f8a52354",
   "metadata": {},
   "outputs": [
    {
     "data": {
      "text/html": [
       "<div>\n",
       "<style scoped>\n",
       "    .dataframe tbody tr th:only-of-type {\n",
       "        vertical-align: middle;\n",
       "    }\n",
       "\n",
       "    .dataframe tbody tr th {\n",
       "        vertical-align: top;\n",
       "    }\n",
       "\n",
       "    .dataframe thead th {\n",
       "        text-align: right;\n",
       "    }\n",
       "</style>\n",
       "<table border=\"1\" class=\"dataframe\">\n",
       "  <thead>\n",
       "    <tr style=\"text-align: right;\">\n",
       "      <th></th>\n",
       "      <th>Unnamed: 0</th>\n",
       "      <th>id</th>\n",
       "      <th>airbnb_name</th>\n",
       "      <th>host_id</th>\n",
       "      <th>host_name</th>\n",
       "      <th>neighbourhood_group</th>\n",
       "      <th>neighbourhood</th>\n",
       "      <th>latitude</th>\n",
       "      <th>longitude</th>\n",
       "      <th>room_type</th>\n",
       "      <th>price</th>\n",
       "      <th>minimum_nights</th>\n",
       "      <th>number_of_reviews</th>\n",
       "      <th>last_review</th>\n",
       "      <th>reviews_per_month</th>\n",
       "      <th>calculated_host_listings_count</th>\n",
       "      <th>availability_365</th>\n",
       "    </tr>\n",
       "  </thead>\n",
       "  <tbody>\n",
       "    <tr>\n",
       "      <th>0</th>\n",
       "      <td>0</td>\n",
       "      <td>2539</td>\n",
       "      <td>Clean &amp; quiet apt home by the park</td>\n",
       "      <td>2787</td>\n",
       "      <td>John</td>\n",
       "      <td>Brooklyn</td>\n",
       "      <td>Kensington</td>\n",
       "      <td>40.64749</td>\n",
       "      <td>-73.97237</td>\n",
       "      <td>Private room</td>\n",
       "      <td>149</td>\n",
       "      <td>1</td>\n",
       "      <td>9</td>\n",
       "      <td>2018-10-19</td>\n",
       "      <td>2539</td>\n",
       "      <td>6</td>\n",
       "      <td>365</td>\n",
       "    </tr>\n",
       "    <tr>\n",
       "      <th>1</th>\n",
       "      <td>1</td>\n",
       "      <td>2595</td>\n",
       "      <td>Skylit Midtown Castle</td>\n",
       "      <td>2845</td>\n",
       "      <td>Jennifer</td>\n",
       "      <td>Manhattan</td>\n",
       "      <td>Midtown</td>\n",
       "      <td>40.75362</td>\n",
       "      <td>-73.98377</td>\n",
       "      <td>Entire home/apt</td>\n",
       "      <td>225</td>\n",
       "      <td>1</td>\n",
       "      <td>45</td>\n",
       "      <td>2019-05-21</td>\n",
       "      <td>2595</td>\n",
       "      <td>2</td>\n",
       "      <td>355</td>\n",
       "    </tr>\n",
       "    <tr>\n",
       "      <th>2</th>\n",
       "      <td>2</td>\n",
       "      <td>3647</td>\n",
       "      <td>THE VILLAGE OF HARLEM....NEW YORK !</td>\n",
       "      <td>4632</td>\n",
       "      <td>Elisabeth</td>\n",
       "      <td>Manhattan</td>\n",
       "      <td>Harlem</td>\n",
       "      <td>40.80902</td>\n",
       "      <td>-73.94190</td>\n",
       "      <td>Private room</td>\n",
       "      <td>150</td>\n",
       "      <td>3</td>\n",
       "      <td>0</td>\n",
       "      <td>NaN</td>\n",
       "      <td>3647</td>\n",
       "      <td>1</td>\n",
       "      <td>365</td>\n",
       "    </tr>\n",
       "    <tr>\n",
       "      <th>3</th>\n",
       "      <td>3</td>\n",
       "      <td>3831</td>\n",
       "      <td>Cozy Entire Floor of Brownstone</td>\n",
       "      <td>4869</td>\n",
       "      <td>LisaRoxanne</td>\n",
       "      <td>Brooklyn</td>\n",
       "      <td>Clinton Hill</td>\n",
       "      <td>40.68514</td>\n",
       "      <td>-73.95976</td>\n",
       "      <td>Entire home/apt</td>\n",
       "      <td>89</td>\n",
       "      <td>1</td>\n",
       "      <td>270</td>\n",
       "      <td>2019-07-05</td>\n",
       "      <td>3831</td>\n",
       "      <td>1</td>\n",
       "      <td>194</td>\n",
       "    </tr>\n",
       "    <tr>\n",
       "      <th>4</th>\n",
       "      <td>4</td>\n",
       "      <td>5022</td>\n",
       "      <td>Entire Apt: Spacious Studio/Loft by central park</td>\n",
       "      <td>7192</td>\n",
       "      <td>Laura</td>\n",
       "      <td>Manhattan</td>\n",
       "      <td>East Harlem</td>\n",
       "      <td>40.79851</td>\n",
       "      <td>-73.94399</td>\n",
       "      <td>Entire home/apt</td>\n",
       "      <td>80</td>\n",
       "      <td>10</td>\n",
       "      <td>9</td>\n",
       "      <td>2018-11-19</td>\n",
       "      <td>5022</td>\n",
       "      <td>1</td>\n",
       "      <td>0</td>\n",
       "    </tr>\n",
       "  </tbody>\n",
       "</table>\n",
       "</div>"
      ],
      "text/plain": [
       "   Unnamed: 0    id                                       airbnb_name  \\\n",
       "0           0  2539                Clean & quiet apt home by the park   \n",
       "1           1  2595                             Skylit Midtown Castle   \n",
       "2           2  3647               THE VILLAGE OF HARLEM....NEW YORK !   \n",
       "3           3  3831                   Cozy Entire Floor of Brownstone   \n",
       "4           4  5022  Entire Apt: Spacious Studio/Loft by central park   \n",
       "\n",
       "   host_id    host_name neighbourhood_group neighbourhood  latitude  \\\n",
       "0     2787         John            Brooklyn    Kensington  40.64749   \n",
       "1     2845     Jennifer           Manhattan       Midtown  40.75362   \n",
       "2     4632    Elisabeth           Manhattan        Harlem  40.80902   \n",
       "3     4869  LisaRoxanne            Brooklyn  Clinton Hill  40.68514   \n",
       "4     7192        Laura           Manhattan   East Harlem  40.79851   \n",
       "\n",
       "   longitude        room_type  price  minimum_nights  number_of_reviews  \\\n",
       "0  -73.97237     Private room    149               1                  9   \n",
       "1  -73.98377  Entire home/apt    225               1                 45   \n",
       "2  -73.94190     Private room    150               3                  0   \n",
       "3  -73.95976  Entire home/apt     89               1                270   \n",
       "4  -73.94399  Entire home/apt     80              10                  9   \n",
       "\n",
       "  last_review  reviews_per_month  calculated_host_listings_count  \\\n",
       "0  2018-10-19               2539                               6   \n",
       "1  2019-05-21               2595                               2   \n",
       "2         NaN               3647                               1   \n",
       "3  2019-07-05               3831                               1   \n",
       "4  2018-11-19               5022                               1   \n",
       "\n",
       "   availability_365  \n",
       "0               365  \n",
       "1               355  \n",
       "2               365  \n",
       "3               194  \n",
       "4                 0  "
      ]
     },
     "execution_count": 5,
     "metadata": {},
     "output_type": "execute_result"
    }
   ],
   "source": [
    "airbnb_ny.head()"
   ]
  },
  {
   "cell_type": "markdown",
   "id": "6b614f80",
   "metadata": {},
   "source": [
    "## Clean and prepare data"
   ]
  },
  {
   "cell_type": "markdown",
   "id": "e0fb56c8",
   "metadata": {},
   "source": [
    "### Missing values"
   ]
  },
  {
   "cell_type": "code",
   "execution_count": 6,
   "id": "884cf0ef",
   "metadata": {},
   "outputs": [
    {
     "data": {
      "text/plain": [
       "Unnamed: 0                            0\n",
       "id                                    0\n",
       "airbnb_name                          16\n",
       "host_id                               0\n",
       "host_name                            21\n",
       "neighbourhood_group                   0\n",
       "neighbourhood                         0\n",
       "latitude                              0\n",
       "longitude                             0\n",
       "room_type                             0\n",
       "price                                 0\n",
       "minimum_nights                        0\n",
       "number_of_reviews                     0\n",
       "last_review                       10052\n",
       "reviews_per_month                     0\n",
       "calculated_host_listings_count        0\n",
       "availability_365                      0\n",
       "dtype: int64"
      ]
     },
     "execution_count": 6,
     "metadata": {},
     "output_type": "execute_result"
    }
   ],
   "source": [
    "# Check for missing values\n",
    "airbnb_ny.isnull().sum()"
   ]
  },
  {
   "cell_type": "markdown",
   "id": "ab0401c1",
   "metadata": {},
   "source": [
    "In my previous cleaning I decided not to delete the data since it could be valuable and the name columns do really affect my analysis so I am going to leave them in."
   ]
  },
  {
   "cell_type": "code",
   "execution_count": 7,
   "id": "7c50e127",
   "metadata": {},
   "outputs": [],
   "source": [
    "# Check for duplicate values\n",
    "dup = airbnb_ny[airbnb_ny.duplicated()]"
   ]
  },
  {
   "cell_type": "code",
   "execution_count": 8,
   "id": "251bb2a0",
   "metadata": {},
   "outputs": [
    {
     "data": {
      "text/html": [
       "<div>\n",
       "<style scoped>\n",
       "    .dataframe tbody tr th:only-of-type {\n",
       "        vertical-align: middle;\n",
       "    }\n",
       "\n",
       "    .dataframe tbody tr th {\n",
       "        vertical-align: top;\n",
       "    }\n",
       "\n",
       "    .dataframe thead th {\n",
       "        text-align: right;\n",
       "    }\n",
       "</style>\n",
       "<table border=\"1\" class=\"dataframe\">\n",
       "  <thead>\n",
       "    <tr style=\"text-align: right;\">\n",
       "      <th></th>\n",
       "      <th>Unnamed: 0</th>\n",
       "      <th>id</th>\n",
       "      <th>airbnb_name</th>\n",
       "      <th>host_id</th>\n",
       "      <th>host_name</th>\n",
       "      <th>neighbourhood_group</th>\n",
       "      <th>neighbourhood</th>\n",
       "      <th>latitude</th>\n",
       "      <th>longitude</th>\n",
       "      <th>room_type</th>\n",
       "      <th>price</th>\n",
       "      <th>minimum_nights</th>\n",
       "      <th>number_of_reviews</th>\n",
       "      <th>last_review</th>\n",
       "      <th>reviews_per_month</th>\n",
       "      <th>calculated_host_listings_count</th>\n",
       "      <th>availability_365</th>\n",
       "    </tr>\n",
       "  </thead>\n",
       "  <tbody>\n",
       "  </tbody>\n",
       "</table>\n",
       "</div>"
      ],
      "text/plain": [
       "Empty DataFrame\n",
       "Columns: [Unnamed: 0, id, airbnb_name, host_id, host_name, neighbourhood_group, neighbourhood, latitude, longitude, room_type, price, minimum_nights, number_of_reviews, last_review, reviews_per_month, calculated_host_listings_count, availability_365]\n",
       "Index: []"
      ]
     },
     "execution_count": 8,
     "metadata": {},
     "output_type": "execute_result"
    }
   ],
   "source": [
    "dup"
   ]
  },
  {
   "cell_type": "code",
   "execution_count": 14,
   "id": "40d713af",
   "metadata": {},
   "outputs": [
    {
     "name": "stderr",
     "output_type": "stream",
     "text": [
      "D:\\Anaconda\\lib\\site-packages\\seaborn\\distributions.py:2557: FutureWarning: `distplot` is a deprecated function and will be removed in a future version. Please adapt your code to use either `displot` (a figure-level function with similar flexibility) or `histplot` (an axes-level function for histograms).\n",
      "  warnings.warn(msg, FutureWarning)\n"
     ]
    },
    {
     "data": {
      "text/plain": [
       "<AxesSubplot:xlabel='price', ylabel='Density'>"
      ]
     },
     "execution_count": 14,
     "metadata": {},
     "output_type": "execute_result"
    },
    {
     "data": {
      "image/png": "[encoded data removed]",
      "text/plain": [
       "<Figure size 432x288 with 1 Axes>"
      ]
     },
     "metadata": {
      "needs_background": "light"
     },
     "output_type": "display_data"
    }
   ],
   "source": [
    "# Check for extreme values of price\n",
    "sns.distplot(airbnb_ny['price'], bins = 100)"
   ]
  },
  {
   "cell_type": "markdown",
   "id": "feafc06a",
   "metadata": {},
   "source": [
    "I will leave the extreme values in the data set for now, run a regression analysis on it and then remove them after."
   ]
  },
  {
   "cell_type": "markdown",
   "id": "0a8ee10b",
   "metadata": {},
   "source": [
    "## Explore relationship of price and minimum number of nights"
   ]
  },
  {
   "cell_type": "code",
   "execution_count": 56,
   "id": "6125c9f9",
   "metadata": {},
   "outputs": [
    {
     "data": {
      "image/png": "[encoded data removed]",
      "text/plain": [
       "<Figure size 432x288 with 1 Axes>"
      ]
     },
     "metadata": {
      "needs_background": "light"
     },
     "output_type": "display_data"
    }
   ],
   "source": [
    "# Create scatterplot of availability and price\n",
    "airbnb_ny.plot(x = 'calculated_host_listings_count',y='price',style = 'o')\n",
    "plt.title('Host listings vs. price')\n",
    "plt.xlabel('Count of host listings')\n",
    "plt.ylabel('Price')\n",
    "plt.show()"
   ]
  },
  {
   "cell_type": "markdown",
   "id": "d67645c2",
   "metadata": {},
   "source": [
    "## Run regression model on host_listings_count and price"
   ]
  },
  {
   "cell_type": "markdown",
   "id": "369c7ef4",
   "metadata": {},
   "source": [
    "### Reshape variables"
   ]
  },
  {
   "cell_type": "code",
   "execution_count": 57,
   "id": "99104427",
   "metadata": {},
   "outputs": [],
   "source": [
    "# Reshape variables in numpy and put into seperate variables\n",
    "x = airbnb_ny['calculated_host_listings_count'].values.reshape(-1,1)\n",
    "y = airbnb_ny['price'].values.reshape(-1,1)"
   ]
  },
  {
   "cell_type": "code",
   "execution_count": 33,
   "id": "4df2e235",
   "metadata": {},
   "outputs": [
    {
     "data": {
      "text/plain": [
       "(48895, 1)"
      ]
     },
     "execution_count": 33,
     "metadata": {},
     "output_type": "execute_result"
    }
   ],
   "source": [
    "x.shape"
   ]
  },
  {
   "cell_type": "code",
   "execution_count": 35,
   "id": "e5157aa8",
   "metadata": {},
   "outputs": [
    {
     "data": {
      "text/plain": [
       "(48895, 1)"
      ]
     },
     "execution_count": 35,
     "metadata": {},
     "output_type": "execute_result"
    }
   ],
   "source": [
    "y.shape"
   ]
  },
  {
   "cell_type": "markdown",
   "id": "969ea321",
   "metadata": {},
   "source": [
    "### Split data into training and test set"
   ]
  },
  {
   "cell_type": "code",
   "execution_count": 58,
   "id": "52336072",
   "metadata": {},
   "outputs": [],
   "source": [
    "# Split 30% of data into test set and 70% into a training set\n",
    "x_train, x_test, y_train, y_test = train_test_split(x, y, test_size=0.3, random_state = 0)"
   ]
  },
  {
   "cell_type": "markdown",
   "id": "c6ebed98",
   "metadata": {},
   "source": [
    "### Run regression model on data"
   ]
  },
  {
   "cell_type": "code",
   "execution_count": 59,
   "id": "0bfe41f7",
   "metadata": {},
   "outputs": [],
   "source": [
    "# Create regression object\n",
    "regression = LinearRegression()"
   ]
  },
  {
   "cell_type": "code",
   "execution_count": 60,
   "id": "5a8c5b97",
   "metadata": {},
   "outputs": [
    {
     "data": {
      "text/plain": [
       "LinearRegression()"
      ]
     },
     "execution_count": 60,
     "metadata": {},
     "output_type": "execute_result"
    }
   ],
   "source": [
    "# Fit regression into train set\n",
    "regression.fit(x_train, y_train)"
   ]
  },
  {
   "cell_type": "code",
   "execution_count": 61,
   "id": "4a8b44de",
   "metadata": {},
   "outputs": [],
   "source": [
    "# Predict the values of Y using X\n",
    "y_predicted = regression.predict(x_test)"
   ]
  },
  {
   "cell_type": "code",
   "execution_count": 62,
   "id": "9ca95f11",
   "metadata": {},
   "outputs": [],
   "source": [
    "rmse = mean_squared_error(y_test, y_predicted)\n",
    "r2 = r2_score(y_test, y_predicted)"
   ]
  },
  {
   "cell_type": "code",
   "execution_count": 63,
   "id": "55df5fc8",
   "metadata": {},
   "outputs": [
    {
     "data": {
      "image/png": "[encoded data removed]",
      "text/plain": [
       "<Figure size 432x288 with 1 Axes>"
      ]
     },
     "metadata": {
      "needs_background": "light"
     },
     "output_type": "display_data"
    }
   ],
   "source": [
    "# Plot the regrression line from the model on the test set\n",
    "\n",
    "plot_test = plt\n",
    "plot_test.scatter(X_test, Y_test, color = 'blue', s = 15)\n",
    "plot_test.plot(X_test, y_predicted, color = 'green', linewidth = 5)\n",
    "plot_test.title('Host listings vs. price (Test Set)')\n",
    "plot_test.xlabel('Count of listings')\n",
    "plot_test.ylabel('Airbnb price')\n",
    "plot_test.show()"
   ]
  },
  {
   "cell_type": "markdown",
   "id": "23aa2b23",
   "metadata": {},
   "source": [
    "The line fits the data points the higher the listings go. But we see the cluster of points at the beginning of the line are far away from the graph, showing that this model does not work well with this kind of data."
   ]
  },
  {
   "cell_type": "code",
   "execution_count": 64,
   "id": "5aabd36c",
   "metadata": {},
   "outputs": [
    {
     "name": "stdout",
     "output_type": "stream",
     "text": [
      "Slope:  [[0.41685964]]\n",
      "Mean squared error:  52935.69552115414\n",
      "R2 Score:  0.003602231084863794\n"
     ]
    }
   ],
   "source": [
    "# Look at slope, MSE and R2 score\n",
    "print('Slope: ',regression.coef_)\n",
    "print('Mean squared error: ', rmse)\n",
    "print('R2 Score: ', r2)"
   ]
  },
  {
   "cell_type": "code",
   "execution_count": 65,
   "id": "38149fc2",
   "metadata": {},
   "outputs": [
    {
     "data": {
      "text/html": [
       "<div>\n",
       "<style scoped>\n",
       "    .dataframe tbody tr th:only-of-type {\n",
       "        vertical-align: middle;\n",
       "    }\n",
       "\n",
       "    .dataframe tbody tr th {\n",
       "        vertical-align: top;\n",
       "    }\n",
       "\n",
       "    .dataframe thead th {\n",
       "        text-align: right;\n",
       "    }\n",
       "</style>\n",
       "<table border=\"1\" class=\"dataframe\">\n",
       "  <thead>\n",
       "    <tr style=\"text-align: right;\">\n",
       "      <th></th>\n",
       "      <th>Actual</th>\n",
       "      <th>Predicted</th>\n",
       "    </tr>\n",
       "  </thead>\n",
       "  <tbody>\n",
       "    <tr>\n",
       "      <th>0</th>\n",
       "      <td>225</td>\n",
       "      <td>149.952971</td>\n",
       "    </tr>\n",
       "    <tr>\n",
       "      <th>1</th>\n",
       "      <td>649</td>\n",
       "      <td>149.952971</td>\n",
       "    </tr>\n",
       "    <tr>\n",
       "      <th>2</th>\n",
       "      <td>300</td>\n",
       "      <td>150.786690</td>\n",
       "    </tr>\n",
       "    <tr>\n",
       "      <th>3</th>\n",
       "      <td>26</td>\n",
       "      <td>151.620409</td>\n",
       "    </tr>\n",
       "    <tr>\n",
       "      <th>4</th>\n",
       "      <td>125</td>\n",
       "      <td>149.952971</td>\n",
       "    </tr>\n",
       "    <tr>\n",
       "      <th>5</th>\n",
       "      <td>49</td>\n",
       "      <td>149.952971</td>\n",
       "    </tr>\n",
       "    <tr>\n",
       "      <th>6</th>\n",
       "      <td>100</td>\n",
       "      <td>149.952971</td>\n",
       "    </tr>\n",
       "    <tr>\n",
       "      <th>7</th>\n",
       "      <td>175</td>\n",
       "      <td>149.952971</td>\n",
       "    </tr>\n",
       "    <tr>\n",
       "      <th>8</th>\n",
       "      <td>85</td>\n",
       "      <td>149.952971</td>\n",
       "    </tr>\n",
       "    <tr>\n",
       "      <th>9</th>\n",
       "      <td>70</td>\n",
       "      <td>149.952971</td>\n",
       "    </tr>\n",
       "    <tr>\n",
       "      <th>10</th>\n",
       "      <td>184</td>\n",
       "      <td>285.849214</td>\n",
       "    </tr>\n",
       "    <tr>\n",
       "      <th>11</th>\n",
       "      <td>125</td>\n",
       "      <td>187.470338</td>\n",
       "    </tr>\n",
       "    <tr>\n",
       "      <th>12</th>\n",
       "      <td>90</td>\n",
       "      <td>150.369830</td>\n",
       "    </tr>\n",
       "    <tr>\n",
       "      <th>13</th>\n",
       "      <td>88</td>\n",
       "      <td>149.952971</td>\n",
       "    </tr>\n",
       "    <tr>\n",
       "      <th>14</th>\n",
       "      <td>183</td>\n",
       "      <td>149.952971</td>\n",
       "    </tr>\n",
       "    <tr>\n",
       "      <th>15</th>\n",
       "      <td>65</td>\n",
       "      <td>150.786690</td>\n",
       "    </tr>\n",
       "    <tr>\n",
       "      <th>16</th>\n",
       "      <td>75</td>\n",
       "      <td>150.369830</td>\n",
       "    </tr>\n",
       "    <tr>\n",
       "      <th>17</th>\n",
       "      <td>95</td>\n",
       "      <td>149.952971</td>\n",
       "    </tr>\n",
       "    <tr>\n",
       "      <th>18</th>\n",
       "      <td>55</td>\n",
       "      <td>149.952971</td>\n",
       "    </tr>\n",
       "    <tr>\n",
       "      <th>19</th>\n",
       "      <td>77</td>\n",
       "      <td>149.952971</td>\n",
       "    </tr>\n",
       "    <tr>\n",
       "      <th>20</th>\n",
       "      <td>30</td>\n",
       "      <td>151.203550</td>\n",
       "    </tr>\n",
       "    <tr>\n",
       "      <th>21</th>\n",
       "      <td>50</td>\n",
       "      <td>151.203550</td>\n",
       "    </tr>\n",
       "    <tr>\n",
       "      <th>22</th>\n",
       "      <td>200</td>\n",
       "      <td>149.952971</td>\n",
       "    </tr>\n",
       "    <tr>\n",
       "      <th>23</th>\n",
       "      <td>120</td>\n",
       "      <td>149.952971</td>\n",
       "    </tr>\n",
       "    <tr>\n",
       "      <th>24</th>\n",
       "      <td>999</td>\n",
       "      <td>151.620409</td>\n",
       "    </tr>\n",
       "    <tr>\n",
       "      <th>25</th>\n",
       "      <td>125</td>\n",
       "      <td>150.786690</td>\n",
       "    </tr>\n",
       "    <tr>\n",
       "      <th>26</th>\n",
       "      <td>190</td>\n",
       "      <td>149.952971</td>\n",
       "    </tr>\n",
       "    <tr>\n",
       "      <th>27</th>\n",
       "      <td>300</td>\n",
       "      <td>149.952971</td>\n",
       "    </tr>\n",
       "    <tr>\n",
       "      <th>28</th>\n",
       "      <td>225</td>\n",
       "      <td>149.952971</td>\n",
       "    </tr>\n",
       "    <tr>\n",
       "      <th>29</th>\n",
       "      <td>133</td>\n",
       "      <td>149.952971</td>\n",
       "    </tr>\n",
       "  </tbody>\n",
       "</table>\n",
       "</div>"
      ],
      "text/plain": [
       "    Actual   Predicted\n",
       "0      225  149.952971\n",
       "1      649  149.952971\n",
       "2      300  150.786690\n",
       "3       26  151.620409\n",
       "4      125  149.952971\n",
       "5       49  149.952971\n",
       "6      100  149.952971\n",
       "7      175  149.952971\n",
       "8       85  149.952971\n",
       "9       70  149.952971\n",
       "10     184  285.849214\n",
       "11     125  187.470338\n",
       "12      90  150.369830\n",
       "13      88  149.952971\n",
       "14     183  149.952971\n",
       "15      65  150.786690\n",
       "16      75  150.369830\n",
       "17      95  149.952971\n",
       "18      55  149.952971\n",
       "19      77  149.952971\n",
       "20      30  151.203550\n",
       "21      50  151.203550\n",
       "22     200  149.952971\n",
       "23     120  149.952971\n",
       "24     999  151.620409\n",
       "25     125  150.786690\n",
       "26     190  149.952971\n",
       "27     300  149.952971\n",
       "28     225  149.952971\n",
       "29     133  149.952971"
      ]
     },
     "execution_count": 65,
     "metadata": {},
     "output_type": "execute_result"
    }
   ],
   "source": [
    "# Creat dataframe to compare the actual values with the predicted values\n",
    "compare_df = pd.DataFrame({'Actual':y_test.flatten(), 'Predicted':y_predicted.flatten()})\n",
    "compare_df.head(30)"
   ]
  },
  {
   "cell_type": "markdown",
   "id": "06ecca2e",
   "metadata": {},
   "source": [
    "Well, the regression model did not perform well with these two variables. First off, when you compare the actual values to the predicted ones, they're way off. Secondly, the R2 score is 0.1% and the mean squared error is really large at 53,000!!!! So, clearly a linear regression would not work on this data set."
   ]
  },
  {
   "cell_type": "markdown",
   "id": "8a6fb1b2",
   "metadata": {},
   "source": [
    "## Regression model of price and availability"
   ]
  },
  {
   "cell_type": "code",
   "execution_count": null,
   "id": "be587d62",
   "metadata": {},
   "outputs": [],
   "source": [
    "# Explore relationship of the availability and"
   ]
  },
  {
   "cell_type": "code",
   "execution_count": 48,
   "id": "271346b4",
   "metadata": {},
   "outputs": [],
   "source": [
    "# Create variable with 'availability_365' reshaped\n",
    "z = airbnb_ny['availability_365'].values.reshape(-1,1)"
   ]
  },
  {
   "cell_type": "code",
   "execution_count": 49,
   "id": "7bf3ce3b",
   "metadata": {},
   "outputs": [],
   "source": [
    "# Split 30% of data into a training set and 70% into a test set\n",
    "z_train, z_test, y_train, y_test = train_test_split(z,y, test_size = 0.3, random_state = 0)"
   ]
  },
  {
   "cell_type": "code",
   "execution_count": 50,
   "id": "80fd4564",
   "metadata": {},
   "outputs": [
    {
     "data": {
      "text/plain": [
       "LinearRegression()"
      ]
     },
     "execution_count": 50,
     "metadata": {},
     "output_type": "execute_result"
    }
   ],
   "source": [
    "# Fit training into test set\n",
    "regression.fit(z_train, y_train)"
   ]
  },
  {
   "cell_type": "code",
   "execution_count": 51,
   "id": "aa5d2286",
   "metadata": {},
   "outputs": [],
   "source": [
    "# Predict the price using availability\n",
    "yz_predicted = regression.predict(z_test)"
   ]
  },
  {
   "cell_type": "code",
   "execution_count": 53,
   "id": "ad20590a",
   "metadata": {},
   "outputs": [
    {
     "data": {
      "image/png": "[encoded data removed]",
      "text/plain": [
       "<Figure size 432x288 with 1 Axes>"
      ]
     },
     "metadata": {
      "needs_background": "light"
     },
     "output_type": "display_data"
    }
   ],
   "source": [
    "# Plot the new model\n",
    "plot_test.scatter(z_test,y_test, color = 'red', s =20)\n",
    "plot_test.plot(z_test,yz_predicted, color = 'blue', linewidth = 4)\n",
    "plot_test.title('Year round availability vs price (test set)')\n",
    "plot_test.xlabel('Year round availability')\n",
    "plot_test.ylabel('Price')\n",
    "plot_test.show()"
   ]
  },
  {
   "cell_type": "code",
   "execution_count": 54,
   "id": "76403201",
   "metadata": {},
   "outputs": [],
   "source": [
    "rmse = mean_squared_error(y_test, yz_predicted)\n",
    "r2 = r2_score(y_test, yz_predicted)"
   ]
  },
  {
   "cell_type": "code",
   "execution_count": 55,
   "id": "b83fcef6",
   "metadata": {},
   "outputs": [
    {
     "name": "stdout",
     "output_type": "stream",
     "text": [
      "Slope:  [[0.14627484]]\n",
      "RMSE:  52706.43046306548\n",
      "R2 Score  0.007917640377605673\n"
     ]
    }
   ],
   "source": [
    "# Get slope, RMSE, and R2 score of the 'Year round availability vs price' graph\n",
    "print('Slope: ', regression.coef_)\n",
    "print('RMSE: ', rmse)\n",
    "print('R2 Score ', r2)"
   ]
  },
  {
   "cell_type": "markdown",
   "id": "773df45c",
   "metadata": {},
   "source": [
    "As we saw in the previous test, the model did not perform well with this graph."
   ]
  },
  {
   "cell_type": "code",
   "execution_count": null,
   "id": "4b3ca6ee",
   "metadata": {},
   "outputs": [],
   "source": []
  }
 ],
 "metadata": {
  "kernelspec": {
   "display_name": "Python 3",
   "language": "python",
   "name": "python3"
  },
  "language_info": {
   "codemirror_mode": {
    "name": "ipython",
    "version": 3
   },
   "file_extension": ".py",
   "mimetype": "text/x-python",
   "name": "python",
   "nbconvert_exporter": "python",
   "pygments_lexer": "ipython3",
   "version": "3.8.8"
  }
 },
 "nbformat": 4,
 "nbformat_minor": 5
}
